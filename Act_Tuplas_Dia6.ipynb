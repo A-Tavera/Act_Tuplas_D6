{
 "cells": [
  {
   "cell_type": "code",
   "execution_count": 3,
   "metadata": {},
   "outputs": [
    {
     "name": "stdout",
     "output_type": "stream",
     "text": [
      "('Hello', 5, 34.5, True, 'Bye')\n",
      "['Hello', 5, 34.5, True, 'Bye']\n",
      "{1: 'Hello', 2: 5, 3: 34.5, 4: True, 5: 'Bye'}\n"
     ]
    }
   ],
   "source": [
    "#1.- Crea una tupla con una longitud de 5 usando diferentes tipos de datos.\n",
    "Tupla5=('Hello', 5, 34.5,True, 'Bye')\n",
    "\n",
    "#2.- Cambiar dicha tupla a una lista.\n",
    "MiLista= list(Tupla5)\n",
    "\n",
    "#3.- Crea un diccionario donde la clave sea del 1 al 5 y los elementos los datos de la lista.\n",
    "Diccionario={}\n",
    "for i in range(1,6):\n",
    "    Diccionario[i]= MiLista[i-1]\n",
    "\n",
    "print(Tupla5)\n",
    "print(MiLista)\n",
    "print(Diccionario)"
   ]
  }
 ],
 "metadata": {
  "kernelspec": {
   "display_name": "base",
   "language": "python",
   "name": "python3"
  },
  "language_info": {
   "codemirror_mode": {
    "name": "ipython",
    "version": 3
   },
   "file_extension": ".py",
   "mimetype": "text/x-python",
   "name": "python",
   "nbconvert_exporter": "python",
   "pygments_lexer": "ipython3",
   "version": "3.10.9"
  },
  "orig_nbformat": 4
 },
 "nbformat": 4,
 "nbformat_minor": 2
}
